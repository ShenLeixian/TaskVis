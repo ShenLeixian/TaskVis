{
 "metadata": {
  "language_info": {
   "codemirror_mode": {
    "name": "ipython",
    "version": 3
   },
   "file_extension": ".py",
   "mimetype": "text/x-python",
   "name": "python",
   "nbconvert_exporter": "python",
   "pygments_lexer": "ipython3",
   "version": "3.7.6-final"
  },
  "orig_nbformat": 2,
  "kernelspec": {
   "name": "python3",
   "display_name": "Python 3",
   "language": "python"
  }
 },
 "nbformat": 4,
 "nbformat_minor": 2,
 "cells": [
  {
   "cell_type": "code",
   "execution_count": 2,
   "metadata": {},
   "outputs": [
    {
     "output_type": "stream",
     "name": "stdout",
     "text": [
      "测试\n"
     ]
    }
   ],
   "source": [
    "import re\n",
    "datum=1999\n",
    "regex=\"(1[8-9][0-9][0-9]|20[0-2][0-9])\"\n",
    "regex = re.compile(regex)\n",
    "match = regex.match(str(datum))\n"
   ]
  }
 ]
}